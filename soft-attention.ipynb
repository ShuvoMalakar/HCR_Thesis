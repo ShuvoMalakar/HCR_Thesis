{
 "cells": [
  {
   "cell_type": "markdown",
   "id": "347d1675",
   "metadata": {
    "papermill": {
     "duration": 0.018468,
     "end_time": "2023-08-07T19:54:30.052837",
     "exception": false,
     "start_time": "2023-08-07T19:54:30.034369",
     "status": "completed"
    },
    "tags": []
   },
   "source": [
    "# Libraries"
   ]
  },
  {
   "cell_type": "code",
   "execution_count": 1,
   "id": "d20e5608",
   "metadata": {
    "execution": {
     "iopub.execute_input": "2023-08-07T19:54:30.086461Z",
     "iopub.status.busy": "2023-08-07T19:54:30.085974Z",
     "iopub.status.idle": "2023-08-07T19:54:48.267631Z",
     "shell.execute_reply": "2023-08-07T19:54:48.266500Z"
    },
    "id": "Aa36bMKLze3z",
    "papermill": {
     "duration": 18.201842,
     "end_time": "2023-08-07T19:54:48.270437",
     "exception": false,
     "start_time": "2023-08-07T19:54:30.068595",
     "status": "completed"
    },
    "tags": []
   },
   "outputs": [
    {
     "name": "stderr",
     "output_type": "stream",
     "text": [
      "/opt/conda/lib/python3.10/site-packages/scipy/__init__.py:146: UserWarning: A NumPy version >=1.16.5 and <1.23.0 is required for this version of SciPy (detected version 1.23.5\n",
      "  warnings.warn(f\"A NumPy version >={np_minversion} and <{np_maxversion}\"\n",
      "/opt/conda/lib/python3.10/site-packages/tensorflow_io/python/ops/__init__.py:98: UserWarning: unable to load libtensorflow_io_plugins.so: unable to open file: libtensorflow_io_plugins.so, from paths: ['/opt/conda/lib/python3.10/site-packages/tensorflow_io/python/ops/libtensorflow_io_plugins.so']\n",
      "caused by: ['/opt/conda/lib/python3.10/site-packages/tensorflow_io/python/ops/libtensorflow_io_plugins.so: undefined symbol: _ZN3tsl6StatusC1EN10tensorflow5error4CodeESt17basic_string_viewIcSt11char_traitsIcEENS_14SourceLocationE']\n",
      "  warnings.warn(f\"unable to load libtensorflow_io_plugins.so: {e}\")\n",
      "/opt/conda/lib/python3.10/site-packages/tensorflow_io/python/ops/__init__.py:104: UserWarning: file system plugins are not loaded: unable to open file: libtensorflow_io.so, from paths: ['/opt/conda/lib/python3.10/site-packages/tensorflow_io/python/ops/libtensorflow_io.so']\n",
      "caused by: ['/opt/conda/lib/python3.10/site-packages/tensorflow_io/python/ops/libtensorflow_io.so: undefined symbol: _ZTVN10tensorflow13GcsFileSystemE']\n",
      "  warnings.warn(f\"file system plugins are not loaded: {e}\")\n"
     ]
    }
   ],
   "source": [
    "import pandas as pd\n",
    "import numpy as np\n",
    "import os\n",
    "import tensorflow as tf\n",
    "import cv2\n",
    "from keras import backend as K\n",
    "from keras.layers import Layer, InputSpec\n",
    "import keras.layers as kl\n",
    "from glob import glob\n",
    "from sklearn.metrics import roc_curve, auc\n",
    "from keras.preprocessing import image\n",
    "from tensorflow.keras.models import Sequential\n",
    "from sklearn.metrics import roc_auc_score\n",
    "from tensorflow.keras import callbacks \n",
    "from tensorflow.keras.callbacks import ModelCheckpoint, EarlyStopping\n",
    "from  matplotlib import pyplot as plt\n",
    "from tensorflow.keras import Model\n",
    "from tensorflow.keras.layers import concatenate, Dense, Conv2D, MaxPooling2D, Flatten, Input, Activation, add, AveragePooling2D, BatchNormalization, Dropout, GlobalAveragePooling2D, GlobalMaxPooling2D\n",
    "%matplotlib inline\n",
    "import shutil\n",
    "from sklearn.metrics import  precision_score, recall_score, accuracy_score, classification_report, confusion_matrix\n",
    "from tensorflow.python.platform import build_info as tf_build_info\n",
    "from tensorflow.keras.preprocessing.image import ImageDataGenerator\n",
    "from sklearn.model_selection import train_test_split\n",
    "\n",
    "from PIL import ImageFile\n",
    "ImageFile.LOAD_TRUNCATED_IMAGES = True"
   ]
  },
  {
   "cell_type": "code",
   "execution_count": 2,
   "id": "7d3c38c1",
   "metadata": {
    "execution": {
     "iopub.execute_input": "2023-08-07T19:54:48.308734Z",
     "iopub.status.busy": "2023-08-07T19:54:48.308145Z",
     "iopub.status.idle": "2023-08-07T19:55:02.384551Z",
     "shell.execute_reply": "2023-08-07T19:55:02.383187Z"
    },
    "papermill": {
     "duration": 14.097934,
     "end_time": "2023-08-07T19:55:02.386839",
     "exception": false,
     "start_time": "2023-08-07T19:54:48.288905",
     "status": "completed"
    },
    "tags": []
   },
   "outputs": [
    {
     "name": "stdout",
     "output_type": "stream",
     "text": [
      "Collecting split-folders\r\n",
      "  Downloading split_folders-0.5.1-py3-none-any.whl (8.4 kB)\r\n",
      "Installing collected packages: split-folders\r\n",
      "Successfully installed split-folders-0.5.1\r\n",
      "Note: you may need to restart the kernel to use updated packages.\n"
     ]
    }
   ],
   "source": [
    "pip install split-folders"
   ]
  },
  {
   "cell_type": "code",
   "execution_count": 3,
   "id": "27c97234",
   "metadata": {
    "execution": {
     "iopub.execute_input": "2023-08-07T19:55:02.422101Z",
     "iopub.status.busy": "2023-08-07T19:55:02.420427Z",
     "iopub.status.idle": "2023-08-07T19:55:34.231066Z",
     "shell.execute_reply": "2023-08-07T19:55:34.229814Z"
    },
    "papermill": {
     "duration": 31.830195,
     "end_time": "2023-08-07T19:55:34.233125",
     "exception": false,
     "start_time": "2023-08-07T19:55:02.402930",
     "status": "completed"
    },
    "tags": []
   },
   "outputs": [
    {
     "name": "stderr",
     "output_type": "stream",
     "text": [
      "Copying files: 4449 files [00:31, 140.03 files/s]\n"
     ]
    }
   ],
   "source": [
    "import splitfolders\n",
    "splitfolders.ratio(\"/kaggle/input/insects\", output=\"./\", seed=1337, ratio=(.70, .15, 0.15), group_prefix=None) # default values"
   ]
  },
  {
   "cell_type": "code",
   "execution_count": 4,
   "id": "64845d51",
   "metadata": {
    "execution": {
     "iopub.execute_input": "2023-08-07T19:55:34.313567Z",
     "iopub.status.busy": "2023-08-07T19:55:34.313201Z",
     "iopub.status.idle": "2023-08-07T19:55:34.319006Z",
     "shell.execute_reply": "2023-08-07T19:55:34.318012Z"
    },
    "id": "PsoqCvNsgmHP",
    "papermill": {
     "duration": 0.050528,
     "end_time": "2023-08-07T19:55:34.321118",
     "exception": false,
     "start_time": "2023-08-07T19:55:34.270590",
     "status": "completed"
    },
    "tags": []
   },
   "outputs": [],
   "source": [
    "train_path = '/kaggle/working/train'\n",
    "test_path = '/kaggle/working/test'\n",
    "val_path = '/kaggle/working/val'"
   ]
  },
  {
   "cell_type": "code",
   "execution_count": 5,
   "id": "db78fd81",
   "metadata": {
    "execution": {
     "iopub.execute_input": "2023-08-07T19:55:34.421664Z",
     "iopub.status.busy": "2023-08-07T19:55:34.421205Z",
     "iopub.status.idle": "2023-08-07T19:55:34.426810Z",
     "shell.execute_reply": "2023-08-07T19:55:34.425752Z"
    },
    "id": "wNisha_gM3_Z",
    "papermill": {
     "duration": 0.072381,
     "end_time": "2023-08-07T19:55:34.431425",
     "exception": false,
     "start_time": "2023-08-07T19:55:34.359044",
     "status": "completed"
    },
    "tags": []
   },
   "outputs": [],
   "source": [
    "targetnames = ['Butterfly','Dragonfly','Grasshopper','Ladybird','Mosquito']\n",
    "num_classes = 5\n",
    "image_size = 224\n",
    "batch_size = 16"
   ]
  },
  {
   "cell_type": "markdown",
   "id": "c6c44d74",
   "metadata": {
    "papermill": {
     "duration": 0.05101,
     "end_time": "2023-08-07T19:55:34.535858",
     "exception": false,
     "start_time": "2023-08-07T19:55:34.484848",
     "status": "completed"
    },
    "tags": []
   },
   "source": [
    "***Trainset Augmentation**"
   ]
  },
  {
   "cell_type": "code",
   "execution_count": 6,
   "id": "c1d34aee",
   "metadata": {
    "execution": {
     "iopub.execute_input": "2023-08-07T19:55:34.641670Z",
     "iopub.status.busy": "2023-08-07T19:55:34.641233Z",
     "iopub.status.idle": "2023-08-07T20:02:57.128680Z",
     "shell.execute_reply": "2023-08-07T20:02:57.127678Z"
    },
    "papermill": {
     "duration": 442.543443,
     "end_time": "2023-08-07T20:02:57.131277",
     "exception": false,
     "start_time": "2023-08-07T19:55:34.587834",
     "status": "completed"
    },
    "tags": []
   },
   "outputs": [
    {
     "name": "stdout",
     "output_type": "stream",
     "text": [
      "Found 629 images belonging to 1 classes.\n",
      "Found 725 images belonging to 1 classes.\n",
      "Found 672 images belonging to 1 classes.\n",
      "Found 604 images belonging to 1 classes.\n",
      "Found 482 images belonging to 1 classes.\n"
     ]
    }
   ],
   "source": [
    "# Augmenting images and storing them in temporary directories \n",
    "for img_class in targetnames:\n",
    "\n",
    "    #creating temporary directories\n",
    "    # creating a base directory\n",
    "    aug_dir = 'aug_dir'\n",
    "    if not os.path.exists(aug_dir):\n",
    "        os.mkdir(aug_dir)\n",
    "    # creating a subdirectory inside the base directory for images of the same class\n",
    "    img_dir = os.path.join(aug_dir, 'img_dir')\n",
    "    if not os.path.exists(img_dir):\n",
    "        os.mkdir(img_dir)\n",
    "\n",
    "    img_list = os.listdir(train_path + '/' + img_class)\n",
    "\n",
    "    # Copy images from the class train dir to the img_dir \n",
    "    for file_name in img_list:\n",
    "\n",
    "        # path of source image in training directory\n",
    "        source = os.path.join(train_path + '/' + img_class, file_name)\n",
    "\n",
    "        # creating a target directory to send images \n",
    "        target = os.path.join(img_dir, file_name)\n",
    "\n",
    "        # copying the image from the source to target file\n",
    "        shutil.copyfile(source, target)\n",
    "\n",
    "    # Temporary augumented dataset directory.\n",
    "    source_path = aug_dir\n",
    "\n",
    "    # Augmented images will be saved to training directory\n",
    "    save_path = train_path + '/' + img_class\n",
    "\n",
    "    # Creating Image Data Generator to augment images\n",
    "    datagen = tf.keras.preprocessing.image.ImageDataGenerator(\n",
    "        rotation_range=180,\n",
    "        width_shift_range=0.1,\n",
    "        height_shift_range=0.1,\n",
    "        zoom_range=0.1,\n",
    "        horizontal_flip=True,\n",
    "        vertical_flip=True,\n",
    "        fill_mode='nearest'\n",
    "    )\n",
    "\n",
    "    aug_datagen = datagen.flow_from_directory(source_path,save_to_dir=save_path,save_format='jpg',target_size=(image_size, image_size),batch_size=batch_size)\n",
    "\n",
    "    # Generate the augmented images\n",
    "    aug_images = 8000\n",
    "\n",
    "    num_files = len(os.listdir(img_dir))\n",
    "    num_batches = int(np.ceil((aug_images - num_files) / batch_size))\n",
    "\n",
    "    # creating 8000 augmented images per class\n",
    "    for i in range(0, num_batches):\n",
    "        images, labels = next(aug_datagen)\n",
    "\n",
    "    # delete temporary directory \n",
    "    shutil.rmtree('aug_dir')"
   ]
  },
  {
   "cell_type": "markdown",
   "id": "f428e0aa",
   "metadata": {
    "papermill": {
     "duration": 0.037231,
     "end_time": "2023-08-07T20:02:57.205813",
     "exception": false,
     "start_time": "2023-08-07T20:02:57.168582",
     "status": "completed"
    },
    "tags": []
   },
   "source": [
    "# Dataset generation (Train, Test, Validation)"
   ]
  },
  {
   "cell_type": "code",
   "execution_count": 7,
   "id": "dced18a8",
   "metadata": {
    "execution": {
     "iopub.execute_input": "2023-08-07T20:02:57.279663Z",
     "iopub.status.busy": "2023-08-07T20:02:57.279329Z",
     "iopub.status.idle": "2023-08-07T20:02:57.284283Z",
     "shell.execute_reply": "2023-08-07T20:02:57.283358Z"
    },
    "id": "zhQWqdRN79B3",
    "papermill": {
     "duration": 0.044835,
     "end_time": "2023-08-07T20:02:57.286852",
     "exception": false,
     "start_time": "2023-08-07T20:02:57.242017",
     "status": "completed"
    },
    "tags": []
   },
   "outputs": [],
   "source": [
    "datagen = ImageDataGenerator(preprocessing_function=tf.keras.applications.densenet.preprocess_input)"
   ]
  },
  {
   "cell_type": "code",
   "execution_count": 8,
   "id": "8dd70479",
   "metadata": {
    "execution": {
     "iopub.execute_input": "2023-08-07T20:02:57.364434Z",
     "iopub.status.busy": "2023-08-07T20:02:57.364081Z",
     "iopub.status.idle": "2023-08-07T20:02:58.434224Z",
     "shell.execute_reply": "2023-08-07T20:02:58.433349Z"
    },
    "id": "w9_8FvOO7Rtu",
    "outputId": "7ca88c24-fda8-45d6-cb32-f3a43ae6ba5b",
    "papermill": {
     "duration": 1.1102,
     "end_time": "2023-08-07T20:02:58.436464",
     "exception": false,
     "start_time": "2023-08-07T20:02:57.326264",
     "status": "completed"
    },
    "tags": []
   },
   "outputs": [
    {
     "name": "stdout",
     "output_type": "stream",
     "text": [
      "\n",
      "Train Batches: \n",
      "Found 39546 images belonging to 5 classes.\n",
      "\n",
      "Test Batches: \n",
      "Found 672 images belonging to 5 classes.\n",
      "\n",
      "Val Batches: \n",
      "Found 665 images belonging to 5 classes.\n"
     ]
    }
   ],
   "source": [
    "print(\"\\nTrain Batches: \")\n",
    "train_batches = datagen.flow_from_directory(directory=train_path,\n",
    "                                            target_size=(image_size,image_size),\n",
    "                                            batch_size=batch_size,\n",
    "                                            shuffle=True)\n",
    "\n",
    "print(\"\\nTest Batches: \")\n",
    "test_batches = datagen.flow_from_directory(test_path,\n",
    "                                          target_size=(image_size,image_size),\n",
    "                                          batch_size=batch_size,\n",
    "                                          shuffle=False)\n",
    "print(\"\\nVal Batches: \")\n",
    "val_batches = datagen.flow_from_directory(val_path,\n",
    "                                         target_size=(image_size,image_size),\n",
    "                                         batch_size=batch_size,\n",
    "                                         shuffle=False)"
   ]
  },
  {
   "cell_type": "markdown",
   "id": "ef49815d",
   "metadata": {
    "papermill": {
     "duration": 0.03982,
     "end_time": "2023-08-07T20:02:58.514433",
     "exception": false,
     "start_time": "2023-08-07T20:02:58.474613",
     "status": "completed"
    },
    "tags": []
   },
   "source": [
    "# Main Model Creation"
   ]
  },
  {
   "cell_type": "markdown",
   "id": "b1cd2327",
   "metadata": {
    "papermill": {
     "duration": 0.036838,
     "end_time": "2023-08-07T20:02:58.587589",
     "exception": false,
     "start_time": "2023-08-07T20:02:58.550751",
     "status": "completed"
    },
    "tags": []
   },
   "source": [
    "### Soft Attention"
   ]
  },
  {
   "cell_type": "code",
   "execution_count": 9,
   "id": "7f47aecc",
   "metadata": {
    "execution": {
     "iopub.execute_input": "2023-08-07T20:02:58.661702Z",
     "iopub.status.busy": "2023-08-07T20:02:58.661395Z",
     "iopub.status.idle": "2023-08-07T20:02:58.682019Z",
     "shell.execute_reply": "2023-08-07T20:02:58.681162Z"
    },
    "papermill": {
     "duration": 0.0599,
     "end_time": "2023-08-07T20:02:58.684016",
     "exception": false,
     "start_time": "2023-08-07T20:02:58.624116",
     "status": "completed"
    },
    "tags": []
   },
   "outputs": [],
   "source": [
    "from keras import backend as K\n",
    "from keras.layers import Layer,InputSpec\n",
    "import keras.layers as kl\n",
    "import tensorflow as tf\n",
    "\n",
    "\n",
    "\n",
    "class SoftAttention(Layer):\n",
    "    def __init__(self,ch,m,concat_with_x=False,aggregate=False,**kwargs):\n",
    "        self.channels=int(ch)\n",
    "        self.multiheads = m\n",
    "        self.aggregate_channels = aggregate\n",
    "        self.concat_input_with_scaled = concat_with_x\n",
    "\n",
    "        \n",
    "        super(SoftAttention,self).__init__(**kwargs)\n",
    "\n",
    "    def build(self,input_shape):\n",
    "\n",
    "        self.i_shape = input_shape\n",
    "\n",
    "        kernel_shape_conv3d = (self.channels, 3, 3) + (1, self.multiheads) # DHWC\n",
    "    \n",
    "        self.out_attention_maps_shape = input_shape[0:1]+(self.multiheads,)+input_shape[1:-1]\n",
    "        \n",
    "        if self.aggregate_channels==False:\n",
    "\n",
    "            self.out_features_shape = input_shape[:-1]+(input_shape[-1]+(input_shape[-1]*self.multiheads),)\n",
    "        else:\n",
    "            if self.concat_input_with_scaled:\n",
    "                self.out_features_shape = input_shape[:-1]+(input_shape[-1]*2,)\n",
    "            else:\n",
    "                self.out_features_shape = input_shape\n",
    "        \n",
    "\n",
    "        self.kernel_conv3d = self.add_weight(shape=kernel_shape_conv3d,\n",
    "                                        initializer='he_uniform',\n",
    "                                        name='kernel_conv3d')\n",
    "        self.bias_conv3d = self.add_weight(shape=(self.multiheads,),\n",
    "                                      initializer='zeros',\n",
    "                                      name='bias_conv3d')\n",
    "\n",
    "        super(SoftAttention, self).build(input_shape)\n",
    "\n",
    "    def call(self, x):\n",
    "\n",
    "        exp_x = K.expand_dims(x,axis=-1)\n",
    "\n",
    "        c3d = K.conv3d(exp_x,\n",
    "                     kernel=self.kernel_conv3d,\n",
    "                     strides=(1,1,self.i_shape[-1]), padding='same', data_format='channels_last')\n",
    "        conv3d = K.bias_add(c3d,\n",
    "                        self.bias_conv3d)\n",
    "        conv3d = kl.Activation('relu')(conv3d)\n",
    "\n",
    "        conv3d = K.permute_dimensions(conv3d,pattern=(0,4,1,2,3))\n",
    "\n",
    "        \n",
    "        conv3d = K.squeeze(conv3d, axis=-1)\n",
    "        conv3d = K.reshape(conv3d,shape=(-1, self.multiheads ,self.i_shape[1]*self.i_shape[2]))\n",
    "\n",
    "        softmax_alpha = K.softmax(conv3d, axis=-1) \n",
    "        softmax_alpha = kl.Reshape(target_shape=(self.multiheads, self.i_shape[1],self.i_shape[2]))(softmax_alpha)\n",
    "\n",
    "        \n",
    "        if self.aggregate_channels==False:\n",
    "            exp_softmax_alpha = K.expand_dims(softmax_alpha, axis=-1)       \n",
    "            exp_softmax_alpha = K.permute_dimensions(exp_softmax_alpha,pattern=(0,2,3,1,4))\n",
    "   \n",
    "            x_exp = K.expand_dims(x,axis=-2)\n",
    "   \n",
    "            u = kl.Multiply()([exp_softmax_alpha, x_exp])   \n",
    "  \n",
    "            u = kl.Reshape(target_shape=(self.i_shape[1],self.i_shape[2],u.shape[-1]*u.shape[-2]))(u)\n",
    "\n",
    "        else:\n",
    "            exp_softmax_alpha = K.permute_dimensions(softmax_alpha,pattern=(0,2,3,1))\n",
    "\n",
    "            exp_softmax_alpha = K.sum(exp_softmax_alpha,axis=-1)\n",
    "\n",
    "            exp_softmax_alpha = K.expand_dims(exp_softmax_alpha, axis=-1)\n",
    "\n",
    "            u = kl.Multiply()([exp_softmax_alpha, x])   \n",
    "\n",
    "        if self.concat_input_with_scaled:\n",
    "            o = kl.Concatenate(axis=-1)([u,x])\n",
    "        else:\n",
    "            o = u\n",
    "        \n",
    "        return [o, softmax_alpha]\n",
    "\n",
    "    def compute_output_shape(self, input_shape): \n",
    "        return [self.out_features_shape, self.out_attention_maps_shape]\n",
    "\n",
    "    \n",
    "    def get_config(self):\n",
    "        return super(SoftAttention,self).get_config()\n",
    " "
   ]
  },
  {
   "cell_type": "markdown",
   "id": "44b2d57b",
   "metadata": {
    "papermill": {
     "duration": 0.03643,
     "end_time": "2023-08-07T20:02:58.757006",
     "exception": false,
     "start_time": "2023-08-07T20:02:58.720576",
     "status": "completed"
    },
    "tags": []
   },
   "source": [
    "### Define Model"
   ]
  },
  {
   "cell_type": "code",
   "execution_count": 10,
   "id": "e3b3f0a7",
   "metadata": {
    "execution": {
     "iopub.execute_input": "2023-08-07T20:02:58.832038Z",
     "iopub.status.busy": "2023-08-07T20:02:58.831706Z",
     "iopub.status.idle": "2023-08-07T20:03:10.324485Z",
     "shell.execute_reply": "2023-08-07T20:03:10.323417Z"
    },
    "id": "zhQWqdRN79B3",
    "papermill": {
     "duration": 11.532903,
     "end_time": "2023-08-07T20:03:10.327102",
     "exception": false,
     "start_time": "2023-08-07T20:02:58.794199",
     "status": "completed"
    },
    "tags": []
   },
   "outputs": [
    {
     "name": "stdout",
     "output_type": "stream",
     "text": [
      "Downloading data from https://storage.googleapis.com/tensorflow/keras-applications/densenet/densenet169_weights_tf_dim_ordering_tf_kernels_notop.h5\n",
      "51877672/51877672 [==============================] - 1s 0us/step\n"
     ]
    }
   ],
   "source": [
    "from tensorflow.keras.applications.densenet import DenseNet169\n",
    "\n",
    "DN169 = DenseNet169(weights='imagenet', include_top=False, input_shape=(image_size, image_size, 3), pooling='avg')"
   ]
  },
  {
   "cell_type": "markdown",
   "id": "10d246d1",
   "metadata": {
    "papermill": {
     "duration": 0.038116,
     "end_time": "2023-08-07T20:03:10.405366",
     "exception": false,
     "start_time": "2023-08-07T20:03:10.367250",
     "status": "completed"
    },
    "tags": []
   },
   "source": [
    "## Fine tuning"
   ]
  },
  {
   "cell_type": "code",
   "execution_count": 11,
   "id": "4588da8e",
   "metadata": {
    "execution": {
     "iopub.execute_input": "2023-08-07T20:03:10.482570Z",
     "iopub.status.busy": "2023-08-07T20:03:10.482209Z",
     "iopub.status.idle": "2023-08-07T20:03:10.488490Z",
     "shell.execute_reply": "2023-08-07T20:03:10.487456Z"
    },
    "id": "4d4Ta5LcSYaz",
    "papermill": {
     "duration": 0.047736,
     "end_time": "2023-08-07T20:03:10.490899",
     "exception": false,
     "start_time": "2023-08-07T20:03:10.443163",
     "status": "completed"
    },
    "tags": []
   },
   "outputs": [],
   "source": [
    "MainInput=Input(shape=(image_size, image_size, 3))"
   ]
  },
  {
   "cell_type": "code",
   "execution_count": 12,
   "id": "4b1ec2e6",
   "metadata": {
    "execution": {
     "iopub.execute_input": "2023-08-07T20:03:10.570189Z",
     "iopub.status.busy": "2023-08-07T20:03:10.569922Z",
     "iopub.status.idle": "2023-08-07T20:03:11.853335Z",
     "shell.execute_reply": "2023-08-07T20:03:11.850796Z"
    },
    "papermill": {
     "duration": 1.326906,
     "end_time": "2023-08-07T20:03:11.856027",
     "exception": false,
     "start_time": "2023-08-07T20:03:10.529121",
     "status": "completed"
    },
    "tags": []
   },
   "outputs": [],
   "source": [
    "dn169 = DN169(MainInput)"
   ]
  },
  {
   "cell_type": "code",
   "execution_count": 13,
   "id": "3f194229",
   "metadata": {
    "execution": {
     "iopub.execute_input": "2023-08-07T20:03:11.939032Z",
     "iopub.status.busy": "2023-08-07T20:03:11.938704Z",
     "iopub.status.idle": "2023-08-07T20:03:11.953699Z",
     "shell.execute_reply": "2023-08-07T20:03:11.952777Z"
    },
    "papermill": {
     "duration": 0.055743,
     "end_time": "2023-08-07T20:03:11.955963",
     "exception": false,
     "start_time": "2023-08-07T20:03:11.900220",
     "status": "completed"
    },
    "tags": []
   },
   "outputs": [],
   "source": [
    "# Reshape the tensor to have 4 dimensions\n",
    "from tensorflow.keras.layers import Reshape\n",
    "reshape = Reshape((8, 8, 26))(dn169)"
   ]
  },
  {
   "cell_type": "code",
   "execution_count": 14,
   "id": "f12a8633",
   "metadata": {
    "execution": {
     "iopub.execute_input": "2023-08-07T20:03:12.032110Z",
     "iopub.status.busy": "2023-08-07T20:03:12.031831Z",
     "iopub.status.idle": "2023-08-07T20:03:12.124698Z",
     "shell.execute_reply": "2023-08-07T20:03:12.123807Z"
    },
    "id": "x8mS99J5SYbT",
    "papermill": {
     "duration": 0.133378,
     "end_time": "2023-08-07T20:03:12.126923",
     "exception": false,
     "start_time": "2023-08-07T20:03:11.993545",
     "status": "completed"
    },
    "tags": []
   },
   "outputs": [],
   "source": [
    "# Add convolutional layers with Channel Attention\n",
    "conv = Conv2D(filters=128, kernel_size=(7, 7), activation=\"relu\", padding=\"same\", kernel_initializer='he_normal')(reshape)\n",
    "conv = BatchNormalization()(conv)\n",
    "conv = Conv2D(filters=128, kernel_size=(5, 5), activation=\"relu\", padding=\"same\", kernel_initializer='he_normal')(conv)\n",
    "conv = BatchNormalization()(conv)\n",
    "conv = Conv2D(filters=128, kernel_size=(3, 3), activation=\"relu\", padding=\"same\", kernel_initializer='he_normal')(conv)\n",
    "conv = BatchNormalization()(conv)\n",
    "conv = Conv2D(filters=128, kernel_size=(1, 1), activation=\"relu\", padding=\"same\", kernel_initializer='he_normal')(conv)\n",
    "conv = BatchNormalization()(conv)"
   ]
  },
  {
   "cell_type": "code",
   "execution_count": 15,
   "id": "414f49bd",
   "metadata": {
    "execution": {
     "iopub.execute_input": "2023-08-07T20:03:12.203764Z",
     "iopub.status.busy": "2023-08-07T20:03:12.203486Z",
     "iopub.status.idle": "2023-08-07T20:03:12.561159Z",
     "shell.execute_reply": "2023-08-07T20:03:12.560165Z"
    },
    "papermill": {
     "duration": 0.398602,
     "end_time": "2023-08-07T20:03:12.563799",
     "exception": false,
     "start_time": "2023-08-07T20:03:12.165197",
     "status": "completed"
    },
    "tags": []
   },
   "outputs": [],
   "source": [
    "attention_layer,map2 = SoftAttention(aggregate=True,m=16,concat_with_x=False,ch=int(conv.shape[-1]),name='soft_attention')(conv)\n",
    "attention_layer=(MaxPooling2D(pool_size=(2, 2),padding=\"same\")(attention_layer))\n",
    "conv=(MaxPooling2D(pool_size=(2, 2),padding=\"same\")(conv))\n",
    "\n",
    "conv = concatenate([conv,attention_layer])\n",
    "conv  = Activation('relu')(conv)\n",
    "conv = Dropout(0.5)(conv)"
   ]
  },
  {
   "cell_type": "code",
   "execution_count": 16,
   "id": "434e1591",
   "metadata": {
    "execution": {
     "iopub.execute_input": "2023-08-07T20:03:12.642067Z",
     "iopub.status.busy": "2023-08-07T20:03:12.641760Z",
     "iopub.status.idle": "2023-08-07T20:03:12.733925Z",
     "shell.execute_reply": "2023-08-07T20:03:12.732961Z"
    },
    "id": "sW4tKg9wSYbk",
    "papermill": {
     "duration": 0.132827,
     "end_time": "2023-08-07T20:03:12.736100",
     "exception": false,
     "start_time": "2023-08-07T20:03:12.603273",
     "status": "completed"
    },
    "tags": []
   },
   "outputs": [],
   "source": [
    "conv = Conv2D(filters=256,kernel_size=(7,7), activation=\"relu\",padding=\"same\",kernel_initializer='he_normal')(conv)\n",
    "conv = BatchNormalization()(conv)\n",
    "conv = Conv2D(filters=256,kernel_size=(5,5), activation=\"relu\",padding=\"same\",kernel_initializer='he_normal')(conv)\n",
    "conv = BatchNormalization()(conv)\n",
    "conv = Conv2D(filters=256,kernel_size=(3,3), activation=\"relu\",padding=\"same\",kernel_initializer='he_normal')(conv)\n",
    "conv = BatchNormalization()(conv)\n",
    "conv = Conv2D(filters=256,kernel_size=(1,1), activation=\"relu\",padding=\"same\",kernel_initializer='he_normal')(conv)\n",
    "conv = BatchNormalization()(conv)"
   ]
  },
  {
   "cell_type": "code",
   "execution_count": 17,
   "id": "ab04be79",
   "metadata": {
    "execution": {
     "iopub.execute_input": "2023-08-07T20:03:12.815324Z",
     "iopub.status.busy": "2023-08-07T20:03:12.814479Z",
     "iopub.status.idle": "2023-08-07T20:03:12.863120Z",
     "shell.execute_reply": "2023-08-07T20:03:12.862183Z"
    },
    "papermill": {
     "duration": 0.090104,
     "end_time": "2023-08-07T20:03:12.865318",
     "exception": false,
     "start_time": "2023-08-07T20:03:12.775214",
     "status": "completed"
    },
    "tags": []
   },
   "outputs": [],
   "source": [
    "attention_layer,map2 = SoftAttention(aggregate=True,m=16,concat_with_x=False,ch=int(conv.shape[-1]),name='soft_attention_2')(conv)\n",
    "attention_layer=(MaxPooling2D(pool_size=(2, 2),padding=\"same\")(attention_layer))\n",
    "conv=(MaxPooling2D(pool_size=(2, 2),padding=\"same\")(conv))\n",
    "\n",
    "conv = concatenate([conv,attention_layer])\n",
    "conv  = Activation('relu')(conv)\n",
    "conv = Dropout(0.5)(conv)"
   ]
  },
  {
   "cell_type": "code",
   "execution_count": 18,
   "id": "382a6279",
   "metadata": {
    "execution": {
     "iopub.execute_input": "2023-08-07T20:03:12.974753Z",
     "iopub.status.busy": "2023-08-07T20:03:12.974427Z",
     "iopub.status.idle": "2023-08-07T20:03:12.979542Z",
     "shell.execute_reply": "2023-08-07T20:03:12.978596Z"
    },
    "papermill": {
     "duration": 0.051708,
     "end_time": "2023-08-07T20:03:12.982143",
     "exception": false,
     "start_time": "2023-08-07T20:03:12.930435",
     "status": "completed"
    },
    "tags": []
   },
   "outputs": [
    {
     "name": "stdout",
     "output_type": "stream",
     "text": [
      "5\n"
     ]
    }
   ],
   "source": [
    "num_classes = test_batches.num_classes\n",
    "print(num_classes)"
   ]
  },
  {
   "cell_type": "code",
   "execution_count": 19,
   "id": "24cbb2de",
   "metadata": {
    "execution": {
     "iopub.execute_input": "2023-08-07T20:03:13.060267Z",
     "iopub.status.busy": "2023-08-07T20:03:13.060006Z",
     "iopub.status.idle": "2023-08-07T20:03:13.114895Z",
     "shell.execute_reply": "2023-08-07T20:03:13.114034Z"
    },
    "id": "-EdFxKdgSYcf",
    "papermill": {
     "duration": 0.096725,
     "end_time": "2023-08-07T20:03:13.117136",
     "exception": false,
     "start_time": "2023-08-07T20:03:13.020411",
     "status": "completed"
    },
    "tags": []
   },
   "outputs": [],
   "source": [
    "conv=(Flatten()(conv))\n",
    "conv=(Dense(1024,activation=\"relu\")(conv))\n",
    "conv = Dropout(0.5)(conv)\n",
    "conv=(Dense(512,activation=\"relu\")(conv))\n",
    "conv = Dropout(0.25)(conv)\n",
    "conv=(Dense(num_classes, activation=\"softmax\")(conv))\n",
    "\n",
    "model_dn169_sa = Model(inputs=MainInput, outputs=conv)"
   ]
  },
  {
   "cell_type": "code",
   "execution_count": 20,
   "id": "bbc17aa1",
   "metadata": {
    "execution": {
     "iopub.execute_input": "2023-08-07T20:03:13.194046Z",
     "iopub.status.busy": "2023-08-07T20:03:13.193778Z",
     "iopub.status.idle": "2023-08-07T20:03:13.349543Z",
     "shell.execute_reply": "2023-08-07T20:03:13.348657Z"
    },
    "id": "ba8ajOckSYcl",
    "outputId": "e69fa749-4741-4f49-ae3e-9f5479e809a8",
    "papermill": {
     "duration": 0.203228,
     "end_time": "2023-08-07T20:03:13.358379",
     "exception": false,
     "start_time": "2023-08-07T20:03:13.155151",
     "status": "completed"
    },
    "tags": []
   },
   "outputs": [
    {
     "name": "stdout",
     "output_type": "stream",
     "text": [
      "Model: \"model\"\n",
      "__________________________________________________________________________________________________\n",
      " Layer (type)                   Output Shape         Param #     Connected to                     \n",
      "==================================================================================================\n",
      " input_2 (InputLayer)           [(None, 224, 224, 3  0           []                               \n",
      "                                )]                                                                \n",
      "                                                                                                  \n",
      " densenet169 (Functional)       (None, 1664)         12642880    ['input_2[0][0]']                \n",
      "                                                                                                  \n",
      " reshape (Reshape)              (None, 8, 8, 26)     0           ['densenet169[0][0]']            \n",
      "                                                                                                  \n",
      " conv2d (Conv2D)                (None, 8, 8, 128)    163200      ['reshape[0][0]']                \n",
      "                                                                                                  \n",
      " batch_normalization (BatchNorm  (None, 8, 8, 128)   512         ['conv2d[0][0]']                 \n",
      " alization)                                                                                       \n",
      "                                                                                                  \n",
      " conv2d_1 (Conv2D)              (None, 8, 8, 128)    409728      ['batch_normalization[0][0]']    \n",
      "                                                                                                  \n",
      " batch_normalization_1 (BatchNo  (None, 8, 8, 128)   512         ['conv2d_1[0][0]']               \n",
      " rmalization)                                                                                     \n",
      "                                                                                                  \n",
      " conv2d_2 (Conv2D)              (None, 8, 8, 128)    147584      ['batch_normalization_1[0][0]']  \n",
      "                                                                                                  \n",
      " batch_normalization_2 (BatchNo  (None, 8, 8, 128)   512         ['conv2d_2[0][0]']               \n",
      " rmalization)                                                                                     \n",
      "                                                                                                  \n",
      " conv2d_3 (Conv2D)              (None, 8, 8, 128)    16512       ['batch_normalization_2[0][0]']  \n",
      "                                                                                                  \n",
      " batch_normalization_3 (BatchNo  (None, 8, 8, 128)   512         ['conv2d_3[0][0]']               \n",
      " rmalization)                                                                                     \n",
      "                                                                                                  \n",
      " soft_attention (SoftAttention)  [(None, 8, 8, 128),  18448      ['batch_normalization_3[0][0]']  \n",
      "                                 (None, 16, 8, 8)]                                                \n",
      "                                                                                                  \n",
      " max_pooling2d_1 (MaxPooling2D)  (None, 4, 4, 128)   0           ['batch_normalization_3[0][0]']  \n",
      "                                                                                                  \n",
      " max_pooling2d (MaxPooling2D)   (None, 4, 4, 128)    0           ['soft_attention[0][0]']         \n",
      "                                                                                                  \n",
      " concatenate (Concatenate)      (None, 4, 4, 256)    0           ['max_pooling2d_1[0][0]',        \n",
      "                                                                  'max_pooling2d[0][0]']          \n",
      "                                                                                                  \n",
      " activation (Activation)        (None, 4, 4, 256)    0           ['concatenate[0][0]']            \n",
      "                                                                                                  \n",
      " dropout (Dropout)              (None, 4, 4, 256)    0           ['activation[0][0]']             \n",
      "                                                                                                  \n",
      " conv2d_4 (Conv2D)              (None, 4, 4, 256)    3211520     ['dropout[0][0]']                \n",
      "                                                                                                  \n",
      " batch_normalization_4 (BatchNo  (None, 4, 4, 256)   1024        ['conv2d_4[0][0]']               \n",
      " rmalization)                                                                                     \n",
      "                                                                                                  \n",
      " conv2d_5 (Conv2D)              (None, 4, 4, 256)    1638656     ['batch_normalization_4[0][0]']  \n",
      "                                                                                                  \n",
      " batch_normalization_5 (BatchNo  (None, 4, 4, 256)   1024        ['conv2d_5[0][0]']               \n",
      " rmalization)                                                                                     \n",
      "                                                                                                  \n",
      " conv2d_6 (Conv2D)              (None, 4, 4, 256)    590080      ['batch_normalization_5[0][0]']  \n",
      "                                                                                                  \n",
      " batch_normalization_6 (BatchNo  (None, 4, 4, 256)   1024        ['conv2d_6[0][0]']               \n",
      " rmalization)                                                                                     \n",
      "                                                                                                  \n",
      " conv2d_7 (Conv2D)              (None, 4, 4, 256)    65792       ['batch_normalization_6[0][0]']  \n",
      "                                                                                                  \n",
      " batch_normalization_7 (BatchNo  (None, 4, 4, 256)   1024        ['conv2d_7[0][0]']               \n",
      " rmalization)                                                                                     \n",
      "                                                                                                  \n",
      " soft_attention_2 (SoftAttentio  [(None, 4, 4, 256),  36880      ['batch_normalization_7[0][0]']  \n",
      " n)                              (None, 16, 4, 4)]                                                \n",
      "                                                                                                  \n",
      " max_pooling2d_3 (MaxPooling2D)  (None, 2, 2, 256)   0           ['batch_normalization_7[0][0]']  \n",
      "                                                                                                  \n",
      " max_pooling2d_2 (MaxPooling2D)  (None, 2, 2, 256)   0           ['soft_attention_2[0][0]']       \n",
      "                                                                                                  \n",
      " concatenate_1 (Concatenate)    (None, 2, 2, 512)    0           ['max_pooling2d_3[0][0]',        \n",
      "                                                                  'max_pooling2d_2[0][0]']        \n",
      "                                                                                                  \n",
      " activation_1 (Activation)      (None, 2, 2, 512)    0           ['concatenate_1[0][0]']          \n",
      "                                                                                                  \n",
      " dropout_1 (Dropout)            (None, 2, 2, 512)    0           ['activation_1[0][0]']           \n",
      "                                                                                                  \n",
      " flatten (Flatten)              (None, 2048)         0           ['dropout_1[0][0]']              \n",
      "                                                                                                  \n",
      " dense (Dense)                  (None, 1024)         2098176     ['flatten[0][0]']                \n",
      "                                                                                                  \n",
      " dropout_2 (Dropout)            (None, 1024)         0           ['dense[0][0]']                  \n",
      "                                                                                                  \n",
      " dense_1 (Dense)                (None, 512)          524800      ['dropout_2[0][0]']              \n",
      "                                                                                                  \n",
      " dropout_3 (Dropout)            (None, 512)          0           ['dense_1[0][0]']                \n",
      "                                                                                                  \n",
      " dense_2 (Dense)                (None, 5)            2565        ['dropout_3[0][0]']              \n",
      "                                                                                                  \n",
      "==================================================================================================\n",
      "Total params: 21,572,965\n",
      "Trainable params: 21,411,493\n",
      "Non-trainable params: 161,472\n",
      "__________________________________________________________________________________________________\n"
     ]
    }
   ],
   "source": [
    "model_dn169_sa.summary()"
   ]
  },
  {
   "cell_type": "code",
   "execution_count": 21,
   "id": "f01491fa",
   "metadata": {
    "execution": {
     "iopub.execute_input": "2023-08-07T20:03:13.453189Z",
     "iopub.status.busy": "2023-08-07T20:03:13.452905Z",
     "iopub.status.idle": "2023-08-07T20:03:13.485701Z",
     "shell.execute_reply": "2023-08-07T20:03:13.484793Z"
    },
    "id": "WR0fUpy18vAZ",
    "papermill": {
     "duration": 0.081066,
     "end_time": "2023-08-07T20:03:13.487642",
     "exception": false,
     "start_time": "2023-08-07T20:03:13.406576",
     "status": "completed"
    },
    "tags": []
   },
   "outputs": [],
   "source": [
    "opt1=tf.keras.optimizers.Adam(learning_rate=0.001,epsilon=0.1)\n",
    "model_dn169_sa.compile(optimizer=opt1,\n",
    "             loss='categorical_crossentropy',\n",
    "             metrics=['accuracy'])"
   ]
  },
  {
   "cell_type": "code",
   "execution_count": 22,
   "id": "d13036e6",
   "metadata": {
    "execution": {
     "iopub.execute_input": "2023-08-07T20:03:13.587411Z",
     "iopub.status.busy": "2023-08-07T20:03:13.587084Z",
     "iopub.status.idle": "2023-08-07T20:03:13.591925Z",
     "shell.execute_reply": "2023-08-07T20:03:13.590991Z"
    },
    "id": "LAf5ha295reS",
    "papermill": {
     "duration": 0.061504,
     "end_time": "2023-08-07T20:03:13.594219",
     "exception": false,
     "start_time": "2023-08-07T20:03:13.532715",
     "status": "completed"
    },
    "tags": []
   },
   "outputs": [],
   "source": [
    "class_weights = {   \n",
    "                    0: 1.0,  # akiec\n",
    "                    1: 1.0,  # bcc\n",
    "                    2: 1.0,  # bkl\n",
    "                    3: 1.0,  # df\n",
    "                    4: 1.0,  # mel\n",
    "                   \n",
    "                }"
   ]
  },
  {
   "cell_type": "code",
   "execution_count": 23,
   "id": "ccba833b",
   "metadata": {
    "execution": {
     "iopub.execute_input": "2023-08-07T20:03:13.686199Z",
     "iopub.status.busy": "2023-08-07T20:03:13.685418Z",
     "iopub.status.idle": "2023-08-07T20:03:13.690826Z",
     "shell.execute_reply": "2023-08-07T20:03:13.689955Z"
    },
    "papermill": {
     "duration": 0.053546,
     "end_time": "2023-08-07T20:03:13.692887",
     "exception": false,
     "start_time": "2023-08-07T20:03:13.639341",
     "status": "completed"
    },
    "tags": []
   },
   "outputs": [],
   "source": [
    "checkpoint = ModelCheckpoint(filepath ='DN169_SA.hdf5', monitor='val_accuracy', save_best_only=True, save_weights_only=True)\n",
    "Earlystop = EarlyStopping(monitor='val_accuracy', mode='max', patience=25, min_delta=0.01)"
   ]
  },
  {
   "cell_type": "code",
   "execution_count": 24,
   "id": "35fb6532",
   "metadata": {
    "execution": {
     "iopub.execute_input": "2023-08-07T20:03:13.784245Z",
     "iopub.status.busy": "2023-08-07T20:03:13.783498Z",
     "iopub.status.idle": "2023-08-08T02:26:33.735187Z",
     "shell.execute_reply": "2023-08-08T02:26:33.734042Z"
    },
    "id": "NUzTmiZ-8hL3",
    "outputId": "e1825ff2-9f9c-436f-cf2c-9776af8eee62",
    "papermill": {
     "duration": 23000.049901,
     "end_time": "2023-08-08T02:26:33.787559",
     "exception": false,
     "start_time": "2023-08-07T20:03:13.737658",
     "status": "completed"
    },
    "tags": []
   },
   "outputs": [
    {
     "name": "stdout",
     "output_type": "stream",
     "text": [
      "Epoch 1/50\n"
     ]
    },
    {
     "name": "stderr",
     "output_type": "stream",
     "text": [
      "2023-08-07 20:03:54.002797: E tensorflow/core/grappler/optimizers/meta_optimizer.cc:954] layout failed: INVALID_ARGUMENT: Size of values 0 does not match size of permutation 4 @ fanin shape inmodel/dropout/dropout/SelectV2-2-TransposeNHWCToNCHW-LayoutOptimizer\n"
     ]
    },
    {
     "name": "stdout",
     "output_type": "stream",
     "text": [
      "2472/2472 - 857s - loss: 0.8735 - accuracy: 0.6900 - val_loss: 0.3244 - val_accuracy: 0.9023 - 857s/epoch - 347ms/step\n",
      "Epoch 2/50\n",
      "2472/2472 - 731s - loss: 0.2318 - accuracy: 0.9334 - val_loss: 0.3446 - val_accuracy: 0.9038 - 731s/epoch - 296ms/step\n",
      "Epoch 3/50\n",
      "2472/2472 - 731s - loss: 0.1233 - accuracy: 0.9643 - val_loss: 0.2954 - val_accuracy: 0.9203 - 731s/epoch - 296ms/step\n",
      "Epoch 4/50\n",
      "2472/2472 - 732s - loss: 0.0659 - accuracy: 0.9809 - val_loss: 0.3005 - val_accuracy: 0.9278 - 732s/epoch - 296ms/step\n",
      "Epoch 5/50\n",
      "2472/2472 - 732s - loss: 0.0483 - accuracy: 0.9857 - val_loss: 0.2735 - val_accuracy: 0.9293 - 732s/epoch - 296ms/step\n",
      "Epoch 6/50\n",
      "2472/2472 - 732s - loss: 0.0370 - accuracy: 0.9896 - val_loss: 0.3214 - val_accuracy: 0.9398 - 732s/epoch - 296ms/step\n",
      "Epoch 7/50\n",
      "2472/2472 - 730s - loss: 0.0268 - accuracy: 0.9922 - val_loss: 0.3817 - val_accuracy: 0.9263 - 730s/epoch - 295ms/step\n",
      "Epoch 8/50\n",
      "2472/2472 - 732s - loss: 0.0198 - accuracy: 0.9945 - val_loss: 0.3081 - val_accuracy: 0.9398 - 732s/epoch - 296ms/step\n",
      "Epoch 9/50\n",
      "2472/2472 - 730s - loss: 0.0197 - accuracy: 0.9945 - val_loss: 0.4136 - val_accuracy: 0.9098 - 730s/epoch - 295ms/step\n",
      "Epoch 10/50\n",
      "2472/2472 - 730s - loss: 0.0150 - accuracy: 0.9958 - val_loss: 0.3482 - val_accuracy: 0.9293 - 730s/epoch - 295ms/step\n",
      "Epoch 11/50\n",
      "2472/2472 - 732s - loss: 0.0118 - accuracy: 0.9965 - val_loss: 0.3591 - val_accuracy: 0.9353 - 732s/epoch - 296ms/step\n",
      "Epoch 12/50\n",
      "2472/2472 - 730s - loss: 0.0148 - accuracy: 0.9954 - val_loss: 0.3220 - val_accuracy: 0.9203 - 730s/epoch - 295ms/step\n",
      "Epoch 13/50\n",
      "2472/2472 - 731s - loss: 0.0089 - accuracy: 0.9973 - val_loss: 0.4092 - val_accuracy: 0.9338 - 731s/epoch - 296ms/step\n",
      "Epoch 14/50\n",
      "2472/2472 - 730s - loss: 0.0071 - accuracy: 0.9983 - val_loss: 0.4280 - val_accuracy: 0.9278 - 730s/epoch - 295ms/step\n",
      "Epoch 15/50\n",
      "2472/2472 - 729s - loss: 0.0144 - accuracy: 0.9963 - val_loss: 0.3814 - val_accuracy: 0.9308 - 729s/epoch - 295ms/step\n",
      "Epoch 16/50\n",
      "2472/2472 - 728s - loss: 0.0078 - accuracy: 0.9978 - val_loss: 0.4399 - val_accuracy: 0.9383 - 728s/epoch - 295ms/step\n",
      "Epoch 17/50\n",
      "2472/2472 - 729s - loss: 0.0105 - accuracy: 0.9968 - val_loss: 0.2785 - val_accuracy: 0.9398 - 729s/epoch - 295ms/step\n",
      "Epoch 18/50\n",
      "2472/2472 - 731s - loss: 0.0083 - accuracy: 0.9976 - val_loss: 0.3504 - val_accuracy: 0.9173 - 731s/epoch - 296ms/step\n",
      "Epoch 19/50\n",
      "2472/2472 - 732s - loss: 0.0088 - accuracy: 0.9976 - val_loss: 0.4103 - val_accuracy: 0.9218 - 732s/epoch - 296ms/step\n",
      "Epoch 20/50\n",
      "2472/2472 - 732s - loss: 0.0081 - accuracy: 0.9978 - val_loss: 0.3171 - val_accuracy: 0.9368 - 732s/epoch - 296ms/step\n",
      "Epoch 21/50\n",
      "2472/2472 - 733s - loss: 0.0022 - accuracy: 0.9994 - val_loss: 0.4254 - val_accuracy: 0.9278 - 733s/epoch - 297ms/step\n",
      "Epoch 22/50\n",
      "2472/2472 - 732s - loss: 0.0054 - accuracy: 0.9984 - val_loss: 0.4594 - val_accuracy: 0.9308 - 732s/epoch - 296ms/step\n",
      "Epoch 23/50\n",
      "2472/2472 - 730s - loss: 0.0053 - accuracy: 0.9985 - val_loss: 0.4297 - val_accuracy: 0.9308 - 730s/epoch - 295ms/step\n",
      "Epoch 24/50\n",
      "2472/2472 - 728s - loss: 0.0073 - accuracy: 0.9980 - val_loss: 0.3939 - val_accuracy: 0.9353 - 728s/epoch - 294ms/step\n",
      "Epoch 25/50\n",
      "2472/2472 - 730s - loss: 0.0032 - accuracy: 0.9992 - val_loss: 0.3787 - val_accuracy: 0.9293 - 730s/epoch - 295ms/step\n",
      "Epoch 26/50\n",
      "2472/2472 - 735s - loss: 0.0023 - accuracy: 0.9993 - val_loss: 0.3826 - val_accuracy: 0.9338 - 735s/epoch - 297ms/step\n",
      "Epoch 27/50\n",
      "2472/2472 - 734s - loss: 0.0010 - accuracy: 0.9997 - val_loss: 0.4181 - val_accuracy: 0.9383 - 734s/epoch - 297ms/step\n",
      "Epoch 28/50\n",
      "2472/2472 - 739s - loss: 0.0080 - accuracy: 0.9978 - val_loss: 0.3674 - val_accuracy: 0.9293 - 739s/epoch - 299ms/step\n",
      "Epoch 29/50\n",
      "2472/2472 - 739s - loss: 0.0065 - accuracy: 0.9982 - val_loss: 0.2755 - val_accuracy: 0.9368 - 739s/epoch - 299ms/step\n",
      "Epoch 30/50\n",
      "2472/2472 - 738s - loss: 0.0115 - accuracy: 0.9970 - val_loss: 0.3966 - val_accuracy: 0.9353 - 738s/epoch - 298ms/step\n",
      "Epoch 31/50\n",
      "2472/2472 - 738s - loss: 0.0047 - accuracy: 0.9987 - val_loss: 0.4724 - val_accuracy: 0.9248 - 738s/epoch - 298ms/step\n"
     ]
    }
   ],
   "source": [
    "history = model_dn169_sa.fit(train_batches,\n",
    "                         epochs=50,\n",
    "                         verbose=2,\n",
    "                         validation_data=val_batches,\n",
    "                         callbacks=[checkpoint,Earlystop],\n",
    "                         class_weight=class_weights)"
   ]
  },
  {
   "cell_type": "markdown",
   "id": "48ad2047",
   "metadata": {
    "papermill": {
     "duration": 0.051824,
     "end_time": "2023-08-08T02:26:33.891099",
     "exception": false,
     "start_time": "2023-08-08T02:26:33.839275",
     "status": "completed"
    },
    "tags": []
   },
   "source": [
    "### Plotting accuracy and loss"
   ]
  },
  {
   "cell_type": "code",
   "execution_count": 25,
   "id": "f09c5fdb",
   "metadata": {
    "execution": {
     "iopub.execute_input": "2023-08-08T02:26:33.996896Z",
     "iopub.status.busy": "2023-08-08T02:26:33.996537Z",
     "iopub.status.idle": "2023-08-08T02:26:38.474343Z",
     "shell.execute_reply": "2023-08-08T02:26:38.473366Z"
    },
    "papermill": {
     "duration": 4.534242,
     "end_time": "2023-08-08T02:26:38.477201",
     "exception": false,
     "start_time": "2023-08-08T02:26:33.942959",
     "status": "completed"
    },
    "tags": []
   },
   "outputs": [
    {
     "name": "stdout",
     "output_type": "stream",
     "text": [
      "Number of epochs trained: 31\n"
     ]
    },
    {
     "data": {
      "image/png": "[encoded data removed]",
      "text/plain": [
       "<Figure size 1500x500 with 2 Axes>"
      ]
     },
     "metadata": {},
     "output_type": "display_data"
    }
   ],
   "source": [
    "# Determine number of epochs trained\n",
    "num_epochs_trained = len(history.history['val_loss'])\n",
    "print(f\"Number of epochs trained: {num_epochs_trained}\")\n",
    "\n",
    "## History plotting\n",
    "epochs = [i for i in range(num_epochs_trained)]\n",
    "fig , ax = plt.subplots(1,2)\n",
    "train_acc = history.history['accuracy']\n",
    "train_loss = history.history['loss']\n",
    "val_acc = history.history['val_accuracy']\n",
    "val_loss = history.history['val_loss']\n",
    "fig.set_size_inches(15,5)\n",
    "\n",
    "ax[0].plot(epochs , train_acc , 'go-' , label = 'Training Accuracy')\n",
    "ax[0].plot(epochs , val_acc , 'ro-' , label = 'Validation Accuracy')\n",
    "title_font = {'fontname':'Times New Roman', 'size':'14', 'color':'black', 'weight':'normal'}\n",
    "ax[0].set_title('Model Accuracy', fontdict=title_font)\n",
    "legend_font = {'family': 'Times New Roman', 'size': '12', 'weight': 'normal'}\n",
    "ax[0].legend(prop=legend_font)\n",
    "label_font = {'fontname':'Times New Roman', 'size':'12', 'color':'black', 'weight':'normal'}\n",
    "ax[0].set_xlabel(\"Epochs\",  fontdict=label_font)\n",
    "ax[0].set_ylabel(\"Accuracy\",  fontdict=label_font)\n",
    "\n",
    "ax[1].plot(epochs , train_loss , 'g-o' , label = 'Training Loss')\n",
    "ax[1].plot(epochs , val_loss , 'r-o' , label = 'Validation Loss')\n",
    "ax[1].set_title('Model Loss', fontdict=title_font)\n",
    "ax[1].legend(prop=legend_font)\n",
    "ax[1].set_xlabel(\"Epochs\", fontdict=label_font)\n",
    "ax[1].set_ylabel(\"Loss\", fontdict=label_font)\n",
    "plt.show()"
   ]
  },
  {
   "cell_type": "code",
   "execution_count": 26,
   "id": "41f8f364",
   "metadata": {
    "execution": {
     "iopub.execute_input": "2023-08-08T02:26:38.588488Z",
     "iopub.status.busy": "2023-08-08T02:26:38.588040Z",
     "iopub.status.idle": "2023-08-08T02:26:39.351941Z",
     "shell.execute_reply": "2023-08-08T02:26:39.350863Z"
    },
    "id": "zm_AewFBXTj8",
    "papermill": {
     "duration": 0.8227,
     "end_time": "2023-08-08T02:26:39.354582",
     "exception": false,
     "start_time": "2023-08-08T02:26:38.531882",
     "status": "completed"
    },
    "tags": []
   },
   "outputs": [],
   "source": [
    "from tensorflow.keras import models\n",
    "model_dn169_sa.load_weights(\"DN169_SA.hdf5\")"
   ]
  },
  {
   "cell_type": "code",
   "execution_count": 27,
   "id": "2f2b73f8",
   "metadata": {
    "execution": {
     "iopub.execute_input": "2023-08-08T02:26:39.462770Z",
     "iopub.status.busy": "2023-08-08T02:26:39.462415Z",
     "iopub.status.idle": "2023-08-08T02:26:46.337536Z",
     "shell.execute_reply": "2023-08-08T02:26:46.336378Z"
    },
    "papermill": {
     "duration": 6.931786,
     "end_time": "2023-08-08T02:26:46.340492",
     "exception": false,
     "start_time": "2023-08-08T02:26:39.408706",
     "status": "completed"
    },
    "tags": []
   },
   "outputs": [
    {
     "name": "stdout",
     "output_type": "stream",
     "text": [
      "42/42 [==============================] - 7s 92ms/step\n"
     ]
    }
   ],
   "source": [
    "predictions = model_dn169_sa.predict(test_batches)"
   ]
  },
  {
   "cell_type": "code",
   "execution_count": 28,
   "id": "d0046a31",
   "metadata": {
    "execution": {
     "iopub.execute_input": "2023-08-08T02:26:46.456423Z",
     "iopub.status.busy": "2023-08-08T02:26:46.456034Z",
     "iopub.status.idle": "2023-08-08T02:26:46.461394Z",
     "shell.execute_reply": "2023-08-08T02:26:46.460356Z"
    },
    "id": "FDTMtBeTdBfU",
    "papermill": {
     "duration": 0.066039,
     "end_time": "2023-08-08T02:26:46.463538",
     "exception": false,
     "start_time": "2023-08-08T02:26:46.397499",
     "status": "completed"
    },
    "tags": []
   },
   "outputs": [],
   "source": [
    "#geting predictions on test dataset\n",
    "y_pred = np.argmax(predictions, axis=1)\n",
    "#getting the true labels per image \n",
    "y_true = test_batches.classes\n",
    "#getting the predicted labels per image \n",
    "y_prob = predictions"
   ]
  },
  {
   "cell_type": "code",
   "execution_count": 29,
   "id": "f55fcd2f",
   "metadata": {
    "execution": {
     "iopub.execute_input": "2023-08-08T02:26:46.584498Z",
     "iopub.status.busy": "2023-08-08T02:26:46.583299Z",
     "iopub.status.idle": "2023-08-08T02:26:46.602698Z",
     "shell.execute_reply": "2023-08-08T02:26:46.601334Z"
    },
    "papermill": {
     "duration": 0.082822,
     "end_time": "2023-08-08T02:26:46.605145",
     "exception": false,
     "start_time": "2023-08-08T02:26:46.522323",
     "status": "completed"
    },
    "tags": []
   },
   "outputs": [
    {
     "name": "stdout",
     "output_type": "stream",
     "text": [
      "\n",
      "Classification Report:\n",
      "              precision    recall  f1-score   support\n",
      "\n",
      "   Butterfly       0.92      0.96      0.94       136\n",
      "   Dragonfly       0.93      0.92      0.93       156\n",
      " Grasshopper       0.92      0.95      0.94       144\n",
      "    Ladybird       0.99      0.95      0.97       131\n",
      "    Mosquito       0.94      0.91      0.93       105\n",
      "\n",
      "    accuracy                           0.94       672\n",
      "   macro avg       0.94      0.94      0.94       672\n",
      "weighted avg       0.94      0.94      0.94       672\n",
      "\n"
     ]
    }
   ],
   "source": [
    "classnames = ['Butterfly','Dragonfly','Grasshopper','Ladybird','Mosquito']\n",
    "\n",
    "from tensorflow.keras.utils import to_categorical\n",
    "y_test = to_categorical(y_true)\n",
    "\n",
    "report = classification_report(y_true, y_pred, target_names=classnames)\n",
    "\n",
    "print(\"\\nClassification Report:\")\n",
    "print(report)"
   ]
  },
  {
   "cell_type": "code",
   "execution_count": 30,
   "id": "c8b51289",
   "metadata": {
    "execution": {
     "iopub.execute_input": "2023-08-08T02:26:46.739431Z",
     "iopub.status.busy": "2023-08-08T02:26:46.738315Z",
     "iopub.status.idle": "2023-08-08T02:26:47.715355Z",
     "shell.execute_reply": "2023-08-08T02:26:47.714317Z"
    },
    "papermill": {
     "duration": 1.046675,
     "end_time": "2023-08-08T02:26:47.717589",
     "exception": false,
     "start_time": "2023-08-08T02:26:46.670914",
     "status": "completed"
    },
    "tags": []
   },
   "outputs": [
    {
     "data": {
      "image/png": "[encoded data removed]",
      "text/plain": [
       "<Figure size 1000x400 with 2 Axes>"
      ]
     },
     "metadata": {},
     "output_type": "display_data"
    }
   ],
   "source": [
    "## Confusion Matrix\n",
    "title_font = {'fontname':'Times New Roman', 'size':'14', 'color':'black', 'weight':'normal'}\n",
    "label_font = {'fontname':'Times New Roman', 'size':'12', 'color':'black', 'weight':'normal'}\n",
    "\n",
    "from sklearn.metrics import confusion_matrix\n",
    "import seaborn as sns\n",
    "# Creating confusion matrix \n",
    "cm = confusion_matrix(y_true, y_pred)\n",
    "# Plotting the confusion matrix\n",
    "plt.figure(figsize=(10,4))\n",
    "sns.heatmap(cm, annot=True, fmt='g', cmap='Blues', xticklabels=targetnames, yticklabels=targetnames)\n",
    "plt.xlabel('Predicted Label', fontdict=label_font)\n",
    "plt.ylabel('True Label', fontdict=label_font)\n",
    "plt.title('Confusion Matrix', fontdict=title_font)\n",
    "plt.show()"
   ]
  },
  {
   "cell_type": "markdown",
   "id": "23bbbfe2",
   "metadata": {
    "papermill": {
     "duration": 0.05713,
     "end_time": "2023-08-08T02:26:47.831771",
     "exception": false,
     "start_time": "2023-08-08T02:26:47.774641",
     "status": "completed"
    },
    "tags": []
   },
   "source": [
    "## Results"
   ]
  },
  {
   "cell_type": "markdown",
   "id": "66347caa",
   "metadata": {
    "papermill": {
     "duration": 0.057268,
     "end_time": "2023-08-08T02:26:47.944749",
     "exception": false,
     "start_time": "2023-08-08T02:26:47.887481",
     "status": "completed"
    },
    "tags": []
   },
   "source": [
    "### Individual Class Accuracy "
   ]
  },
  {
   "cell_type": "code",
   "execution_count": 31,
   "id": "cb3e358b",
   "metadata": {
    "execution": {
     "iopub.execute_input": "2023-08-08T02:26:48.061464Z",
     "iopub.status.busy": "2023-08-08T02:26:48.061019Z",
     "iopub.status.idle": "2023-08-08T02:26:48.070077Z",
     "shell.execute_reply": "2023-08-08T02:26:48.068995Z"
    },
    "papermill": {
     "duration": 0.070111,
     "end_time": "2023-08-08T02:26:48.072556",
     "exception": false,
     "start_time": "2023-08-08T02:26:48.002445",
     "status": "completed"
    },
    "tags": []
   },
   "outputs": [
    {
     "name": "stdout",
     "output_type": "stream",
     "text": [
      "Overall accuracy: 93.90%\n",
      "Accuracy for each class:\n",
      "Class 0: 95.59%\n",
      "Class 1: 92.31%\n",
      "Class 2: 95.14%\n",
      "Class 3: 94.66%\n",
      "Class 4: 91.43%\n"
     ]
    }
   ],
   "source": [
    "# y_true are the true labels of the test set\n",
    "# y_pred are the predicted labels of the test set\n",
    "accuracy = accuracy_score(y_true, y_pred)\n",
    "# Calculate accuracy for each class\n",
    "class_accuracy = cm.diagonal()/cm.sum(axis=1)\n",
    "print(\"Overall accuracy: {:.2f}%\".format(accuracy*100))\n",
    "print(\"Accuracy for each class:\")\n",
    "for i, acc in enumerate(class_accuracy):\n",
    "    print(\"Class {}: {:.2f}%\".format(i, acc*100))"
   ]
  },
  {
   "cell_type": "markdown",
   "id": "620a1bc9",
   "metadata": {
    "papermill": {
     "duration": 0.05977,
     "end_time": "2023-08-08T02:26:48.193304",
     "exception": false,
     "start_time": "2023-08-08T02:26:48.133534",
     "status": "completed"
    },
    "tags": []
   },
   "source": [
    "### Individual Class Weighted Precision"
   ]
  },
  {
   "cell_type": "code",
   "execution_count": 32,
   "id": "0f216c32",
   "metadata": {
    "execution": {
     "iopub.execute_input": "2023-08-08T02:26:48.308678Z",
     "iopub.status.busy": "2023-08-08T02:26:48.308302Z",
     "iopub.status.idle": "2023-08-08T02:26:48.325692Z",
     "shell.execute_reply": "2023-08-08T02:26:48.324378Z"
    },
    "papermill": {
     "duration": 0.078969,
     "end_time": "2023-08-08T02:26:48.327797",
     "exception": false,
     "start_time": "2023-08-08T02:26:48.248828",
     "status": "completed"
    },
    "tags": []
   },
   "outputs": [
    {
     "name": "stdout",
     "output_type": "stream",
     "text": [
      "Weighted precision for each class:\n",
      "Class 0: 92.20%\n",
      "Class 1: 92.90%\n",
      "Class 2: 91.95%\n",
      "Class 3: 99.20%\n",
      "Class 4: 94.12%\n",
      "Weighted precision: 93.97%\n"
     ]
    }
   ],
   "source": [
    "report = classification_report(y_true, y_pred, output_dict=True)\n",
    "# Extract weighted precision for each class\n",
    "class_precision = {}\n",
    "for class_label in report.keys():\n",
    "    if class_label == 'weighted avg':\n",
    "        class_precision['weighted'] = report[class_label]['precision']\n",
    "    elif class_label.isdigit():\n",
    "        class_precision[int(class_label)] = report[class_label]['precision']\n",
    "print(\"Weighted precision for each class:\")\n",
    "for i, precision in class_precision.items():\n",
    "    if i == 'weighted':\n",
    "        print(\"Weighted precision: {:.2f}%\".format(precision*100))\n",
    "    else:\n",
    "        print(\"Class {}: {:.2f}%\".format(i, precision*100))"
   ]
  },
  {
   "cell_type": "markdown",
   "id": "bc9d9ee0",
   "metadata": {
    "papermill": {
     "duration": 0.054942,
     "end_time": "2023-08-08T02:26:48.440918",
     "exception": false,
     "start_time": "2023-08-08T02:26:48.385976",
     "status": "completed"
    },
    "tags": []
   },
   "source": [
    "### Individual Class Weighted Recall"
   ]
  },
  {
   "cell_type": "code",
   "execution_count": 33,
   "id": "7f274965",
   "metadata": {
    "execution": {
     "iopub.execute_input": "2023-08-08T02:26:48.555738Z",
     "iopub.status.busy": "2023-08-08T02:26:48.553886Z",
     "iopub.status.idle": "2023-08-08T02:26:48.571543Z",
     "shell.execute_reply": "2023-08-08T02:26:48.570351Z"
    },
    "papermill": {
     "duration": 0.078192,
     "end_time": "2023-08-08T02:26:48.573939",
     "exception": false,
     "start_time": "2023-08-08T02:26:48.495747",
     "status": "completed"
    },
    "tags": []
   },
   "outputs": [
    {
     "name": "stdout",
     "output_type": "stream",
     "text": [
      "Weighted recall for each class:\n",
      "Class 0: 95.59%\n",
      "Class 1: 92.31%\n",
      "Class 2: 95.14%\n",
      "Class 3: 94.66%\n",
      "Class 4: 91.43%\n",
      "Weighted Recall: 93.90%\n"
     ]
    }
   ],
   "source": [
    "report = classification_report(y_true, y_pred, output_dict=True)\n",
    "# Extract weighted recall for each class\n",
    "class_recall = {}\n",
    "for class_label in report.keys():\n",
    "    if class_label == 'weighted avg':\n",
    "        class_recall['weighted'] = report[class_label]['recall']\n",
    "    elif class_label.isdigit():\n",
    "        class_recall[int(class_label)] = report[class_label]['recall']\n",
    "print(\"Weighted recall for each class:\")\n",
    "for i, recall in class_recall.items():\n",
    "    if i == 'weighted':\n",
    "        print(\"Weighted Recall: {:.2f}%\".format(recall*100))\n",
    "    else:\n",
    "        print(\"Class {}: {:.2f}%\".format(i, recall*100))"
   ]
  },
  {
   "cell_type": "markdown",
   "id": "48c7087e",
   "metadata": {
    "papermill": {
     "duration": 0.056205,
     "end_time": "2023-08-08T02:26:48.692033",
     "exception": false,
     "start_time": "2023-08-08T02:26:48.635828",
     "status": "completed"
    },
    "tags": []
   },
   "source": [
    "### Individual Class Weighted F1-score"
   ]
  },
  {
   "cell_type": "code",
   "execution_count": 34,
   "id": "e989a8df",
   "metadata": {
    "execution": {
     "iopub.execute_input": "2023-08-08T02:26:48.807162Z",
     "iopub.status.busy": "2023-08-08T02:26:48.806794Z",
     "iopub.status.idle": "2023-08-08T02:26:48.823683Z",
     "shell.execute_reply": "2023-08-08T02:26:48.822281Z"
    },
    "papermill": {
     "duration": 0.076374,
     "end_time": "2023-08-08T02:26:48.825822",
     "exception": false,
     "start_time": "2023-08-08T02:26:48.749448",
     "status": "completed"
    },
    "tags": []
   },
   "outputs": [
    {
     "name": "stdout",
     "output_type": "stream",
     "text": [
      "Weighted F1-score for each class:\n",
      "Class 0: 93.86%\n",
      "Class 1: 92.60%\n",
      "Class 2: 93.52%\n",
      "Class 3: 96.88%\n",
      "Class 4: 92.75%\n",
      "Weighted F1-score: 93.91%\n"
     ]
    }
   ],
   "source": [
    "report = classification_report(y_true, y_pred, output_dict=True)\n",
    "# Extract weighted F1-score for each class\n",
    "class_f1 = {}\n",
    "for class_label in report.keys():\n",
    "    if class_label == 'weighted avg':\n",
    "        class_f1['weighted'] = report[class_label]['f1-score']\n",
    "    elif class_label.isdigit():\n",
    "        class_f1[int(class_label)] = report[class_label]['f1-score']\n",
    "print(\"Weighted F1-score for each class:\")\n",
    "for i, f1_score in class_f1.items():\n",
    "    if i == 'weighted':\n",
    "        print(\"Weighted F1-score: {:.2f}%\".format(f1_score*100))\n",
    "    else:\n",
    "        print(\"Class {}: {:.2f}%\".format(i, f1_score*100))"
   ]
  },
  {
   "cell_type": "markdown",
   "id": "68ee55dd",
   "metadata": {
    "papermill": {
     "duration": 0.056291,
     "end_time": "2023-08-08T02:26:48.948846",
     "exception": false,
     "start_time": "2023-08-08T02:26:48.892555",
     "status": "completed"
    },
    "tags": []
   },
   "source": [
    "### Individual Class Precision, Recall and F1-score"
   ]
  },
  {
   "cell_type": "code",
   "execution_count": 35,
   "id": "80a10686",
   "metadata": {
    "execution": {
     "iopub.execute_input": "2023-08-08T02:26:49.073012Z",
     "iopub.status.busy": "2023-08-08T02:26:49.072554Z",
     "iopub.status.idle": "2023-08-08T02:26:49.088088Z",
     "shell.execute_reply": "2023-08-08T02:26:49.084780Z"
    },
    "papermill": {
     "duration": 0.088808,
     "end_time": "2023-08-08T02:26:49.092703",
     "exception": false,
     "start_time": "2023-08-08T02:26:49.003895",
     "status": "completed"
    },
    "tags": []
   },
   "outputs": [
    {
     "name": "stdout",
     "output_type": "stream",
     "text": [
      "Class-wise weighted precision, recall, and F1-score:\n",
      "Class 0: Precision=0.92, Recall=0.96, F1-score=0.94\n",
      "Class 1: Precision=0.93, Recall=0.92, F1-score=0.93\n",
      "Class 2: Precision=0.92, Recall=0.95, F1-score=0.94\n",
      "Class 3: Precision=0.99, Recall=0.95, F1-score=0.97\n",
      "Class 4: Precision=0.94, Recall=0.91, F1-score=0.93\n"
     ]
    }
   ],
   "source": [
    "from sklearn.metrics import precision_recall_fscore_support\n",
    "\n",
    "precision_class, recall_class, f1_class, support_class = precision_recall_fscore_support(y_true, y_pred, average=None)\n",
    "print('Class-wise weighted precision, recall, and F1-score:')\n",
    "for i in range(len(precision_class)):\n",
    "    print('Class {}: Precision={:.2f}, Recall={:.2f}, F1-score={:.2f}'.format(i, precision_class[i], recall_class[i], f1_class[i]))\n"
   ]
  },
  {
   "cell_type": "markdown",
   "id": "45f34abc",
   "metadata": {
    "papermill": {
     "duration": 0.05668,
     "end_time": "2023-08-08T02:26:49.247832",
     "exception": false,
     "start_time": "2023-08-08T02:26:49.191152",
     "status": "completed"
    },
    "tags": []
   },
   "source": [
    "### Individual Class Weighted Sensitivity"
   ]
  },
  {
   "cell_type": "code",
   "execution_count": 36,
   "id": "ef8a2c44",
   "metadata": {
    "execution": {
     "iopub.execute_input": "2023-08-08T02:26:49.366650Z",
     "iopub.status.busy": "2023-08-08T02:26:49.366260Z",
     "iopub.status.idle": "2023-08-08T02:26:50.195433Z",
     "shell.execute_reply": "2023-08-08T02:26:50.193989Z"
    },
    "papermill": {
     "duration": 0.891047,
     "end_time": "2023-08-08T02:26:50.197782",
     "exception": false,
     "start_time": "2023-08-08T02:26:49.306735",
     "status": "completed"
    },
    "tags": []
   },
   "outputs": [
    {
     "name": "stdout",
     "output_type": "stream",
     "text": [
      "Weighted Sensitivity:  0.9389880952380952\n",
      "Class  0 :sensitivity = 0.9558823529411765\n",
      "Class  1 :sensitivity = 0.9230769230769231\n",
      "Class  2 :sensitivity = 0.9513888888888888\n",
      "Class  3 :sensitivity = 0.9465648854961832\n",
      "Class  4 :sensitivity = 0.9142857142857143\n"
     ]
    }
   ],
   "source": [
    "from imblearn.metrics import sensitivity_score\n",
    "\n",
    "sensitivity = sensitivity_score(y_true, y_pred, average='weighted')\n",
    "print(\"Weighted Sensitivity: \", sensitivity)\n",
    "\n",
    "# Calculate class-wise sensitivity\n",
    "sensitivity = sensitivity_score(y_true, y_pred, average=None)\n",
    "\n",
    "# Print sensitivity score for each class\n",
    "for i in range(len(sensitivity)):\n",
    "    print(\"Class \", i, \":sensitivity =\", sensitivity[i])"
   ]
  },
  {
   "cell_type": "markdown",
   "id": "93d62d58",
   "metadata": {
    "papermill": {
     "duration": 0.059661,
     "end_time": "2023-08-08T02:26:50.317846",
     "exception": false,
     "start_time": "2023-08-08T02:26:50.258185",
     "status": "completed"
    },
    "tags": []
   },
   "source": [
    "### Individual Class Weighted Specificity"
   ]
  },
  {
   "cell_type": "code",
   "execution_count": 37,
   "id": "876aa8ab",
   "metadata": {
    "execution": {
     "iopub.execute_input": "2023-08-08T02:26:50.442175Z",
     "iopub.status.busy": "2023-08-08T02:26:50.441809Z",
     "iopub.status.idle": "2023-08-08T02:26:50.452932Z",
     "shell.execute_reply": "2023-08-08T02:26:50.451829Z"
    },
    "papermill": {
     "duration": 0.072982,
     "end_time": "2023-08-08T02:26:50.455042",
     "exception": false,
     "start_time": "2023-08-08T02:26:50.382060",
     "status": "completed"
    },
    "tags": []
   },
   "outputs": [
    {
     "name": "stdout",
     "output_type": "stream",
     "text": [
      "Weighted Specificity:  0.9840139751000658\n",
      "Class  0 :specificity= 0.9794776119402985\n",
      "Class  1 :specificity= 0.9786821705426356\n",
      "Class  2 :specificity= 0.9772727272727273\n",
      "Class  3 :specificity= 0.9981515711645101\n",
      "Class  4 :specificity= 0.9894179894179894\n"
     ]
    }
   ],
   "source": [
    "from imblearn.metrics import specificity_score\n",
    "\n",
    "specificity = specificity_score(y_true, y_pred, average='weighted')\n",
    "print(\"Weighted Specificity: \", specificity)\n",
    "\n",
    "# Calculate class-wise specificity\n",
    "specificity = specificity_score(y_true, y_pred, average=None)\n",
    "\n",
    "# Print sensitivity score for each class\n",
    "for i in range(len(specificity)):\n",
    "    print(\"Class \", i, \":specificity=\", specificity[i])"
   ]
  },
  {
   "cell_type": "markdown",
   "id": "fe87b380",
   "metadata": {
    "papermill": {
     "duration": 0.056449,
     "end_time": "2023-08-08T02:26:50.572283",
     "exception": false,
     "start_time": "2023-08-08T02:26:50.515834",
     "status": "completed"
    },
    "tags": []
   },
   "source": [
    "### Accuracy"
   ]
  },
  {
   "cell_type": "code",
   "execution_count": 38,
   "id": "e94c6b41",
   "metadata": {
    "execution": {
     "iopub.execute_input": "2023-08-08T02:26:50.689128Z",
     "iopub.status.busy": "2023-08-08T02:26:50.688766Z",
     "iopub.status.idle": "2023-08-08T02:26:50.696212Z",
     "shell.execute_reply": "2023-08-08T02:26:50.695017Z"
    },
    "papermill": {
     "duration": 0.068807,
     "end_time": "2023-08-08T02:26:50.698600",
     "exception": false,
     "start_time": "2023-08-08T02:26:50.629793",
     "status": "completed"
    },
    "tags": []
   },
   "outputs": [
    {
     "name": "stdout",
     "output_type": "stream",
     "text": [
      "Accuracy: 0.9389880952380952\n"
     ]
    }
   ],
   "source": [
    "print(\"Accuracy: \" + str(accuracy_score(y_true, y_pred)))\n",
    "import numpy as np\n",
    "from sklearn.metrics import accuracy_score"
   ]
  },
  {
   "cell_type": "code",
   "execution_count": 39,
   "id": "27f453ce",
   "metadata": {
    "execution": {
     "iopub.execute_input": "2023-08-08T02:26:50.822126Z",
     "iopub.status.busy": "2023-08-08T02:26:50.821765Z",
     "iopub.status.idle": "2023-08-08T02:26:50.842732Z",
     "shell.execute_reply": "2023-08-08T02:26:50.841375Z"
    },
    "papermill": {
     "duration": 0.082934,
     "end_time": "2023-08-08T02:26:50.844951",
     "exception": false,
     "start_time": "2023-08-08T02:26:50.762017",
     "status": "completed"
    },
    "tags": []
   },
   "outputs": [
    {
     "name": "stdout",
     "output_type": "stream",
     "text": [
      "Top-1 Accuracy: 0.9389880952380952\n",
      "Top-2 Accuracy: 0.9747023809523809\n",
      "Top-3 Accuracy: 0.9895833333333334\n"
     ]
    }
   ],
   "source": [
    "# Calculate top-1 accuracy\n",
    "top1_acc = accuracy_score(y_true, y_pred)\n",
    "print(\"Top-1 Accuracy:\", top1_acc)\n",
    "\n",
    "# Calculate top-2 accuracy\n",
    "y_pred_top2 = np.argsort(-predictions, axis=1)[:, :2] # Get the top 2 predicted classes\n",
    "top2_acc = np.mean(np.array([y_true[i] in y_pred_top2[i] for i in range(len(y_true))]))\n",
    "print(\"Top-2 Accuracy:\", top2_acc)\n",
    "\n",
    "# Calculate top-3 accuracy\n",
    "y_pred_top3 = np.argsort(-predictions, axis=1)[:, :3] # Get the top 3 predicted classes\n",
    "top3_acc = np.mean(np.array([y_true[i] in y_pred_top3[i] for i in range(len(y_true))]))\n",
    "print(\"Top-3 Accuracy:\", top3_acc)\n",
    "from sklearn.metrics import f1_score"
   ]
  },
  {
   "cell_type": "markdown",
   "id": "f749fe05",
   "metadata": {
    "papermill": {
     "duration": 0.057306,
     "end_time": "2023-08-08T02:26:50.963486",
     "exception": false,
     "start_time": "2023-08-08T02:26:50.906180",
     "status": "completed"
    },
    "tags": []
   },
   "source": [
    "### Weighted Evaluation Measures"
   ]
  },
  {
   "cell_type": "code",
   "execution_count": 40,
   "id": "f6006f09",
   "metadata": {
    "execution": {
     "iopub.execute_input": "2023-08-08T02:26:51.079110Z",
     "iopub.status.busy": "2023-08-08T02:26:51.078740Z",
     "iopub.status.idle": "2023-08-08T02:26:51.113727Z",
     "shell.execute_reply": "2023-08-08T02:26:51.112259Z"
    },
    "papermill": {
     "duration": 0.094527,
     "end_time": "2023-08-08T02:26:51.115968",
     "exception": false,
     "start_time": "2023-08-08T02:26:51.021441",
     "status": "completed"
    },
    "tags": []
   },
   "outputs": [
    {
     "name": "stdout",
     "output_type": "stream",
     "text": [
      "Weighted Precision: 0.9397281505291272\n",
      "Weighted Recall: 0.9389880952380952\n",
      "Weighted F1-Score: 0.9391013727674232\n",
      "Weighted Sensitivity: 0.9389880952380952\n",
      "Weighted Specificity: 0.9840139751000658\n",
      "weighted Roc score: 0.9909061781955143\n"
     ]
    }
   ],
   "source": [
    "print(\"Weighted Precision: \"+ str(precision_score(y_true, y_pred, average='weighted')))\n",
    "print(\"Weighted Recall: \"+ str(recall_score(y_true, y_pred, average='weighted')))\n",
    "print(\"Weighted F1-Score: \"+ str(f1_score(y_true, y_pred, average='weighted')))\n",
    "print(\"Weighted Sensitivity: \"+ str(sensitivity_score(y_true, y_pred, average='weighted')))\n",
    "print(\"Weighted Specificity: \"+ str(specificity_score(y_true, y_pred, average='weighted')))\n",
    "print(\"weighted Roc score: \" + str(roc_auc_score(y_true,y_prob,multi_class='ovr',average='weighted')))"
   ]
  },
  {
   "cell_type": "markdown",
   "id": "c03655e6",
   "metadata": {
    "papermill": {
     "duration": 0.058173,
     "end_time": "2023-08-08T02:26:51.232635",
     "exception": false,
     "start_time": "2023-08-08T02:26:51.174462",
     "status": "completed"
    },
    "tags": []
   },
   "source": [
    "### Macro Evaluation Measures"
   ]
  },
  {
   "cell_type": "code",
   "execution_count": 41,
   "id": "09061c03",
   "metadata": {
    "execution": {
     "iopub.execute_input": "2023-08-08T02:26:51.351930Z",
     "iopub.status.busy": "2023-08-08T02:26:51.350985Z",
     "iopub.status.idle": "2023-08-08T02:26:51.372639Z",
     "shell.execute_reply": "2023-08-08T02:26:51.371580Z"
    },
    "papermill": {
     "duration": 0.084413,
     "end_time": "2023-08-08T02:26:51.374693",
     "exception": false,
     "start_time": "2023-08-08T02:26:51.290280",
     "status": "completed"
    },
    "tags": []
   },
   "outputs": [
    {
     "name": "stdout",
     "output_type": "stream",
     "text": [
      "Macro Precision: 0.940731526300782\n",
      "Macro Recall: 0.9382397529377773\n",
      "Macro F1-Score: 0.9392225980847483\n",
      "Macro Sensitivity: 0.9382397529377773\n",
      "Macro Specificity: 0.9846004140676323\n",
      "Macro Roc score: 0.9913507999820157\n"
     ]
    }
   ],
   "source": [
    "print(\"Macro Precision: \"+ str(precision_score(y_true, y_pred, average='macro')))\n",
    "print(\"Macro Recall: \"+ str(recall_score(y_true, y_pred, average='macro')))\n",
    "print(\"Macro F1-Score: \"+ str(f1_score(y_true, y_pred, average='macro')))\n",
    "print(\"Macro Sensitivity: \"+ str(sensitivity_score(y_true, y_pred, average='macro')))\n",
    "print(\"Macro Specificity: \"+ str(specificity_score(y_true, y_pred, average='macro')))\n",
    "print(\"Macro Roc score: \" + str(roc_auc_score(y_true,y_prob,multi_class='ovr',average='macro')))"
   ]
  },
  {
   "cell_type": "markdown",
   "id": "92476a11",
   "metadata": {
    "papermill": {
     "duration": 0.058022,
     "end_time": "2023-08-08T02:26:51.488962",
     "exception": false,
     "start_time": "2023-08-08T02:26:51.430940",
     "status": "completed"
    },
    "tags": []
   },
   "source": [
    "### Micro Evaluation Measures"
   ]
  },
  {
   "cell_type": "code",
   "execution_count": 42,
   "id": "75c7bb97",
   "metadata": {
    "execution": {
     "iopub.execute_input": "2023-08-08T02:26:51.606685Z",
     "iopub.status.busy": "2023-08-08T02:26:51.605733Z",
     "iopub.status.idle": "2023-08-08T02:26:51.622020Z",
     "shell.execute_reply": "2023-08-08T02:26:51.620442Z"
    },
    "papermill": {
     "duration": 0.077539,
     "end_time": "2023-08-08T02:26:51.624201",
     "exception": false,
     "start_time": "2023-08-08T02:26:51.546662",
     "status": "completed"
    },
    "tags": []
   },
   "outputs": [
    {
     "name": "stdout",
     "output_type": "stream",
     "text": [
      "Micro Precision: 0.9389880952380952\n",
      "Micro Recall: 0.9389880952380952\n",
      "Micro F1-Score: 0.9389880952380952\n",
      "Micro Sensitivity: 0.9389880952380952\n",
      "Micro Specificity: 0.9847470238095238\n"
     ]
    }
   ],
   "source": [
    "print(\"Micro Precision: \"+ str(precision_score(y_true, y_pred, average='micro')))\n",
    "print(\"Micro Recall: \"+ str(recall_score(y_true, y_pred, average='micro')))\n",
    "print(\"Micro F1-Score: \"+ str(f1_score(y_true, y_pred, average='micro')))\n",
    "print(\"Micro Sensitivity: \"+ str(sensitivity_score(y_true, y_pred, average='micro')))\n",
    "print(\"Micro Specificity: \"+ str(specificity_score(y_true, y_pred, average='micro')))"
   ]
  },
  {
   "cell_type": "markdown",
   "id": "fca51d79",
   "metadata": {
    "papermill": {
     "duration": 0.060694,
     "end_time": "2023-08-08T02:26:51.745977",
     "exception": false,
     "start_time": "2023-08-08T02:26:51.685283",
     "status": "completed"
    },
    "tags": []
   },
   "source": [
    "## ROC"
   ]
  },
  {
   "cell_type": "markdown",
   "id": "5f5881ce",
   "metadata": {
    "papermill": {
     "duration": 0.057401,
     "end_time": "2023-08-08T02:26:51.861805",
     "exception": false,
     "start_time": "2023-08-08T02:26:51.804404",
     "status": "completed"
    },
    "tags": []
   },
   "source": [
    "### Compute ROC curve and ROC area for each class"
   ]
  },
  {
   "cell_type": "code",
   "execution_count": 43,
   "id": "e993beac",
   "metadata": {
    "execution": {
     "iopub.execute_input": "2023-08-08T02:26:51.977250Z",
     "iopub.status.busy": "2023-08-08T02:26:51.976890Z",
     "iopub.status.idle": "2023-08-08T02:26:52.923949Z",
     "shell.execute_reply": "2023-08-08T02:26:52.921737Z"
    },
    "papermill": {
     "duration": 1.007123,
     "end_time": "2023-08-08T02:26:52.925844",
     "exception": true,
     "start_time": "2023-08-08T02:26:51.918721",
     "status": "failed"
    },
    "tags": []
   },
   "outputs": [
    {
     "ename": "KeyError",
     "evalue": "5",
     "output_type": "error",
     "traceback": [
      "\u001b[0;31m---------------------------------------------------------------------------\u001b[0m",
      "\u001b[0;31mKeyError\u001b[0m                                  Traceback (most recent call last)",
      "Cell \u001b[0;32mIn[43], line 11\u001b[0m\n\u001b[1;32m      9\u001b[0m \u001b[38;5;66;03m# plot the ROC curve for each class\u001b[39;00m\n\u001b[1;32m     10\u001b[0m \u001b[38;5;28;01mfor\u001b[39;00m i \u001b[38;5;129;01min\u001b[39;00m \u001b[38;5;28mrange\u001b[39m(\u001b[38;5;241m7\u001b[39m):\n\u001b[0;32m---> 11\u001b[0m     plt\u001b[38;5;241m.\u001b[39mplot(\u001b[43mfpr\u001b[49m\u001b[43m[\u001b[49m\u001b[43mi\u001b[49m\u001b[43m]\u001b[49m, tpr[i], label\u001b[38;5;241m=\u001b[39m\u001b[38;5;124m'\u001b[39m\u001b[38;5;124mClass \u001b[39m\u001b[38;5;132;01m{}\u001b[39;00m\u001b[38;5;124m: AUC=\u001b[39m\u001b[38;5;132;01m{:.3f}\u001b[39;00m\u001b[38;5;124m'\u001b[39m\u001b[38;5;241m.\u001b[39mformat(i, roc_auc[i]))\n\u001b[1;32m     13\u001b[0m plt\u001b[38;5;241m.\u001b[39mxlabel(\u001b[38;5;124m'\u001b[39m\u001b[38;5;124mFalse Positive Rate\u001b[39m\u001b[38;5;124m'\u001b[39m)\n\u001b[1;32m     14\u001b[0m plt\u001b[38;5;241m.\u001b[39mylabel(\u001b[38;5;124m'\u001b[39m\u001b[38;5;124mTrue Positive Rate\u001b[39m\u001b[38;5;124m'\u001b[39m)\n",
      "\u001b[0;31mKeyError\u001b[0m: 5"
     ]
    },
    {
     "data": {
      "image/png": "[encoded data removed]",
      "text/plain": [
       "<Figure size 640x480 with 1 Axes>"
      ]
     },
     "metadata": {},
     "output_type": "display_data"
    }
   ],
   "source": [
    "fpr = {}\n",
    "tpr = {}\n",
    "roc_auc = dict()\n",
    "for i in range(num_classes):\n",
    "    fpr[i], tpr[i], _ = roc_curve(y_test[:, i], y_prob[:, i], drop_intermediate=False)\n",
    "    roc_auc[i] = auc(fpr[i], tpr[i])\n",
    "\n",
    "\n",
    "# plot the ROC curve for each class\n",
    "for i in range(7):\n",
    "    plt.plot(fpr[i], tpr[i], label='Class {}: AUC={:.3f}'.format(i, roc_auc[i]))\n",
    "\n",
    "plt.xlabel('False Positive Rate')\n",
    "plt.ylabel('True Positive Rate')\n",
    "plt.legend()\n",
    "plt.show()"
   ]
  },
  {
   "cell_type": "markdown",
   "id": "0af3a16e",
   "metadata": {
    "papermill": {
     "duration": null,
     "end_time": null,
     "exception": null,
     "start_time": null,
     "status": "pending"
    },
    "tags": []
   },
   "source": [
    "## MCC and Kappa Score"
   ]
  },
  {
   "cell_type": "code",
   "execution_count": null,
   "id": "bbd91c2a",
   "metadata": {
    "execution": {
     "iopub.execute_input": "2023-06-04T21:56:28.495319Z",
     "iopub.status.busy": "2023-06-04T21:56:28.494810Z",
     "iopub.status.idle": "2023-06-04T21:56:28.508140Z",
     "shell.execute_reply": "2023-06-04T21:56:28.507276Z"
    },
    "papermill": {
     "duration": null,
     "end_time": null,
     "exception": null,
     "start_time": null,
     "status": "pending"
    },
    "tags": []
   },
   "outputs": [],
   "source": [
    "from sklearn.metrics import matthews_corrcoef, cohen_kappa_score\n",
    "\n",
    "# y_true are the true labels of the test set\n",
    "# y_pred are the predicted labels of the test set\n",
    "mcc = matthews_corrcoef(y_true, y_pred)\n",
    "kappa = cohen_kappa_score(y_true, y_pred)\n",
    "print(\"MCC: {:.2f}%\".format(mcc*100))\n",
    "print(\"Kappa Score: {:.2f}%\".format(kappa*100))"
   ]
  },
  {
   "cell_type": "code",
   "execution_count": null,
   "id": "9abd08a9",
   "metadata": {
    "execution": {
     "iopub.execute_input": "2023-06-04T21:56:28.603149Z",
     "iopub.status.busy": "2023-06-04T21:56:28.602718Z",
     "iopub.status.idle": "2023-06-04T21:56:28.698415Z",
     "shell.execute_reply": "2023-06-04T21:56:28.696809Z"
    },
    "papermill": {
     "duration": null,
     "end_time": null,
     "exception": null,
     "start_time": null,
     "status": "pending"
    },
    "tags": []
   },
   "outputs": [],
   "source": [
    "### Individual Class Wise MCC and Kappa\n",
    "\n",
    "from sklearn.metrics import confusion_matrix, matthews_corrcoef, cohen_kappa_score\n",
    "# y_true are the true labels of the test set\n",
    "# y_pred are the predicted labels of the test set\n",
    "conf_mat = confusion_matrix(y_true, y_pred)\n",
    "mcc_per_class = {}\n",
    "kappa_per_class = {}\n",
    "\n",
    "for i in range(len(conf_mat)):\n",
    "    tp = conf_mat[i][i]\n",
    "    fp = sum(conf_mat[:, i]) - tp\n",
    "    fn = sum(conf_mat[i, :]) - tp\n",
    "    tn = sum(sum(conf_mat)) - tp - fp - fn\n",
    "\n",
    "    mcc_per_class[i] = matthews_corrcoef([1 if x==i else 0 for x in y_true], [1 if x==i else 0 for x in y_pred])\n",
    "    kappa_per_class[i] = cohen_kappa_score([1 if x==i else 0 for x in y_true], [1 if x==i else 0 for x in y_pred])\n",
    "\n",
    "print(\"MCC per class:\")\n",
    "for i, mcc in mcc_per_class.items():\n",
    "    print(\"Class {}: {:.2f}%\".format(i, mcc*100))\n",
    "\n",
    "print(\"Kappa Score per class:\")\n",
    "for i, kappa in kappa_per_class.items():\n",
    "    print(\"Class {}: {:.2f}%\".format(i, kappa*100))"
   ]
  },
  {
   "cell_type": "code",
   "execution_count": null,
   "id": "2099af74",
   "metadata": {
    "papermill": {
     "duration": null,
     "end_time": null,
     "exception": null,
     "start_time": null,
     "status": "pending"
    },
    "tags": []
   },
   "outputs": [],
   "source": []
  }
 ],
 "metadata": {
  "kernelspec": {
   "display_name": "Python 3",
   "language": "python",
   "name": "python3"
  },
  "language_info": {
   "codemirror_mode": {
    "name": "ipython",
    "version": 3
   },
   "file_extension": ".py",
   "mimetype": "text/x-python",
   "name": "python",
   "nbconvert_exporter": "python",
   "pygments_lexer": "ipython3",
   "version": "3.10.12"
  },
  "papermill": {
   "default_parameters": {},
   "duration": 23560.066847,
   "end_time": "2023-08-08T02:26:56.625239",
   "environment_variables": {},
   "exception": true,
   "input_path": "__notebook__.ipynb",
   "output_path": "__notebook__.ipynb",
   "parameters": {},
   "start_time": "2023-08-07T19:54:16.558392",
   "version": "2.4.0"
  }
 },
 "nbformat": 4,
 "nbformat_minor": 5
}
